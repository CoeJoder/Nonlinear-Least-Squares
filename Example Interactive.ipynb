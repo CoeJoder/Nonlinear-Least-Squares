{
 "cells": [
  {
   "cell_type": "code",
   "execution_count": null,
   "metadata": {
    "scrolled": true
   },
   "outputs": [],
   "source": [
    "\n",
    "spreadsheet_file = \"test2.xlsx\"\n",
    "dataframe = pandas.read_excel(spreadsheet_file, sheet_name=\"Sheet1\", header=None, names=[\"x\", \"y\"])\n",
    "print dataframe"
   ]
  },
  {
   "cell_type": "code",
   "execution_count": null,
   "metadata": {},
   "outputs": [],
   "source": [
    "results = do_calculations(dataframe.get(\"x\"), dataframe.get(\"y\"))"
   ]
  },
  {
   "cell_type": "code",
   "execution_count": null,
   "metadata": {},
   "outputs": [],
   "source": [
    "print results.lsq_params"
   ]
  },
  {
   "cell_type": "code",
   "execution_count": null,
   "metadata": {},
   "outputs": [],
   "source": [
    "x = np.linspace(0, np.pi, 1000)\n",
    "\n",
    "layout = go.Layout(\n",
    "    title=\"SIMPLE EXAMPLE\",\n",
    "    yaxis=dict(\n",
    "        title=\"volts\"\n",
    "    ),\n",
    "    xaxis=dict(\n",
    "        title=\"nanoseconds\"\n",
    "    )\n",
    ")\n",
    "\n",
    "def update_plot(signals, freq):\n",
    "    data = []\n",
    "    for s in signals:\n",
    "        trace1 = go.Scatter(\n",
    "            x=x,\n",
    "            y=special.jv(s, freq * x),\n",
    "            mode=\"lines\",\n",
    "            name=\"bessel {}\".format(s),\n",
    "            line=dict(\n",
    "                shape=\"spline\"\n",
    "            )\n",
    "        )\n",
    "        data.append(trace1)\n",
    "    fig = go.Figure(data=data, layout=layout)\n",
    "    py.offline.iplot(fig)\n",
    "    \n",
    "signals = widgets.SelectMultiple(options=list(range(1)), value=(0, ), description=\"Bessel Order\")\n",
    "freq = widgets.FloatSlider(min=1, max=20, value=1, description=\"Freq\")\n",
    "widgets.interactive(update_plot, signals=signals, freq=freq)\n"
   ]
  },
  {
   "cell_type": "code",
   "execution_count": null,
   "metadata": {},
   "outputs": [],
   "source": [
    "%matplotlib inline\n",
    "import matplotlib.pyplot as plt\n",
    "import numpy as np\n",
    "\n",
    "def f(m, b):\n",
    "    plt.figure(2)\n",
    "    x = np.linspace(-10, 10, num=1000)\n",
    "    plt.plot(x, m * x + b)\n",
    "    plt.ylim(-5, 5)\n",
    "    plt.show()\n",
    "\n",
    "interactive_plot = widgets.interactive(f, m=(-2.0, 2.0), b=(-3, 3, 0.5))\n",
    "output = interactive_plot.children[-1]\n",
    "output.layout.height = '350px'\n",
    "interactive_plot"
   ]
  }
 ],
 "metadata": {
  "kernelspec": {
   "display_name": "Python 2",
   "language": "python",
   "name": "python2"
  },
  "language_info": {
   "codemirror_mode": {
    "name": "ipython",
    "version": 2
   },
   "file_extension": ".py",
   "mimetype": "text/x-python",
   "name": "python",
   "nbconvert_exporter": "python",
   "pygments_lexer": "ipython2",
   "version": "2.7.15"
  }
 },
 "nbformat": 4,
 "nbformat_minor": 2
}
