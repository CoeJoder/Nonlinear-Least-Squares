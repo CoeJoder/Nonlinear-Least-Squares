{
 "cells": [
  {
   "cell_type": "code",
   "execution_count": 3,
   "metadata": {},
   "outputs": [],
   "source": [
    "# import jtplot submodule from jupyterthemes\n",
    "from jupyterthemes import jtplot\n",
    "\n",
    "# currently installed theme will be used to\n",
    "# set plot style if no arguments provided\n",
    "jtplot.style()"
   ]
  },
  {
   "cell_type": "code",
   "execution_count": 2,
   "metadata": {},
   "outputs": [
    {
     "data": {
      "text/html": [
       "<script type=\"text/javascript\">window.PlotlyConfig = {MathJaxConfig: 'local'};</script><script type=\"text/javascript\">if (window.MathJax) {MathJax.Hub.Config({SVG: {font: \"STIX-Web\"}});}</script><script>requirejs.config({paths: { 'plotly': ['https://cdn.plot.ly/plotly-latest.min']},});if(!window._Plotly) {require(['plotly'],function(plotly) {window._Plotly=plotly;});}</script>"
      ]
     },
     "metadata": {},
     "output_type": "execute_result"
    }
   ],
   "source": [
    "from ski_slope_least_squares_3_oct import *\n",
    "import plotly as py\n",
    "import plotly.graph_objs as go\n",
    "import ipywidgets as widgets\n",
    "from ipywidgets import interactive\n",
    "import numpy as np\n",
    "from scipy import special\n",
    "\n",
    "py.offline.init_notebook_mode(connected=True)"
   ]
  },
  {
   "cell_type": "code",
   "execution_count": 3,
   "metadata": {
    "scrolled": false
   },
   "outputs": [
    {
     "data": {
      "text/plain": [
       "aW50ZXJhY3RpdmUoY2hpbGRyZW49KFNlbGVjdE11bHRpcGxlKGRlc2NyaXB0aW9uPXUnQmVzc2VsIE9yZGVyJywgaW5kZXg9KDAsKSwgb3B0aW9ucz0oMCwpLCB2YWx1ZT0oMCwpKSwgRmxvYXTigKY=\n"
      ]
     },
     "metadata": {},
     "output_type": "display_data"
    }
   ],
   "source": [
    "x = np.linspace(0, np.pi, 1000)\n",
    "\n",
    "layout = go.Layout(\n",
    "    title=\"SIMPLE EXAMPLE\",\n",
    "    yaxis=dict(\n",
    "        title=\"volts\"\n",
    "    ),\n",
    "    xaxis=dict(\n",
    "        title=\"nanoseconds\"\n",
    "    )\n",
    ")\n",
    "\n",
    "def update_plot(signals, freq):\n",
    "    data = []\n",
    "    for s in signals:\n",
    "        trace1 = go.Scatter(\n",
    "            x=x,\n",
    "            y=special.jv(s, freq * x),\n",
    "            mode=\"lines\",\n",
    "            name=\"bessel {}\".format(s),\n",
    "            line=dict(\n",
    "                shape=\"spline\"\n",
    "            )\n",
    "        )\n",
    "        data.append(trace1)\n",
    "    fig = go.Figure(data=data, layout=layout)\n",
    "    py.offline.iplot(fig)\n",
    "    \n",
    "signals = widgets.SelectMultiple(options=list(range(1)), value=(0, ), description=\"Bessel Order\")\n",
    "freq = widgets.FloatSlider(min=1, max=20, value=1, description=\"Freq\")\n",
    "widgets.interactive(update_plot, signals=signals, freq=freq)\n"
   ]
  },
  {
   "cell_type": "code",
   "execution_count": 4,
   "metadata": {},
   "outputs": [
    {
     "data": {
      "text/plain": [
       "aW50ZXJhY3RpdmUoY2hpbGRyZW49KEZsb2F0U2xpZGVyKHZhbHVlPTAuMCwgZGVzY3JpcHRpb249dSdtJywgbWF4PTIuMCwgbWluPS0yLjApLCBGbG9hdFNsaWRlcih2YWx1ZT0wLjAsIGRlc2PigKY=\n"
      ]
     },
     "metadata": {},
     "output_type": "display_data"
    }
   ],
   "source": [
    "%matplotlib inline\n",
    "import matplotlib.pyplot as plt\n",
    "import numpy as np\n",
    "\n",
    "def f(m, b):\n",
    "    plt.figure(2)\n",
    "    x = np.linspace(-10, 10, num=1000)\n",
    "    plt.plot(x, m * x + b)\n",
    "    plt.ylim(-5, 5)\n",
    "    plt.show()\n",
    "\n",
    "interactive_plot = widgets.interactive(f, m=(-2.0, 2.0), b=(-3, 3, 0.5))\n",
    "output = interactive_plot.children[-1]\n",
    "output.layout.height = '350px'\n",
    "interactive_plot"
   ]
  },
  {
   "cell_type": "code",
   "execution_count": null,
   "metadata": {},
   "outputs": [],
   "source": [
    "from ipywidgets import interact\n"
   ]
  }
 ],
 "metadata": {
  "kernelspec": {
   "display_name": "Python 2",
   "language": "python",
   "name": "python2"
  },
  "language_info": {
   "codemirror_mode": {
    "name": "ipython",
    "version": 2
   },
   "file_extension": ".py",
   "mimetype": "text/x-python",
   "name": "python",
   "nbconvert_exporter": "python",
   "pygments_lexer": "ipython2",
   "version": "2.7.15"
  }
 },
 "nbformat": 4,
 "nbformat_minor": 2
}
